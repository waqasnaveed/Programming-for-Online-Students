{
 "cells": [
  {
   "cell_type": "code",
   "execution_count": 1,
   "metadata": {},
   "outputs": [],
   "source": [
    "# Q1.Use a dictionary to store information about a person you know. Store their first name, last name, age, and the city \n",
    "# in which they live. You should have keys such as first_name, last_name, age, and city. \n",
    "# Print each piece of information stored in your dictionary. \n",
    "# Add a new key value pair about qualification then update the qualification value to high academic level then delete it."
   ]
  },
  {
   "cell_type": "code",
   "execution_count": 2,
   "metadata": {},
   "outputs": [],
   "source": [
    "my_friend = {\"first_name\":\"Hamza\", \"last_name\":\"Ali\",\"age\":23, \"city\":\"karachi\"}"
   ]
  },
  {
   "cell_type": "code",
   "execution_count": 3,
   "metadata": {},
   "outputs": [
    {
     "name": "stdout",
     "output_type": "stream",
     "text": [
      "Hamza\n",
      "Ali\n",
      "23\n",
      "karachi\n"
     ]
    }
   ],
   "source": [
    "print(my_friend[\"first_name\"])\n",
    "print(my_friend[\"last_name\"])\n",
    "print(my_friend[\"age\"])\n",
    "print(my_friend[\"city\"])"
   ]
  },
  {
   "cell_type": "code",
   "execution_count": 4,
   "metadata": {},
   "outputs": [],
   "source": [
    "my_friend[\"qualification\"] = \"MBA\" #addition of new key value pair about qualification"
   ]
  },
  {
   "cell_type": "code",
   "execution_count": 5,
   "metadata": {},
   "outputs": [
    {
     "data": {
      "text/plain": [
       "{'first_name': 'Hamza',\n",
       " 'last_name': 'Ali',\n",
       " 'age': 23,\n",
       " 'city': 'karachi',\n",
       " 'qualification': 'MBA'}"
      ]
     },
     "execution_count": 5,
     "metadata": {},
     "output_type": "execute_result"
    }
   ],
   "source": [
    "my_friend"
   ]
  },
  {
   "cell_type": "code",
   "execution_count": 6,
   "metadata": {},
   "outputs": [],
   "source": [
    "my_friend.update({\"qualification\":\"high academic level\"}) #update the qualification value to high academic level"
   ]
  },
  {
   "cell_type": "code",
   "execution_count": 7,
   "metadata": {},
   "outputs": [
    {
     "data": {
      "text/plain": [
       "{'first_name': 'Hamza',\n",
       " 'last_name': 'Ali',\n",
       " 'age': 23,\n",
       " 'city': 'karachi',\n",
       " 'qualification': 'high academic level'}"
      ]
     },
     "execution_count": 7,
     "metadata": {},
     "output_type": "execute_result"
    }
   ],
   "source": [
    "my_friend"
   ]
  },
  {
   "cell_type": "code",
   "execution_count": 8,
   "metadata": {},
   "outputs": [],
   "source": [
    "del my_friend[\"qualification\"] #deletion of last update"
   ]
  },
  {
   "cell_type": "code",
   "execution_count": 9,
   "metadata": {},
   "outputs": [
    {
     "data": {
      "text/plain": [
       "{'first_name': 'Hamza', 'last_name': 'Ali', 'age': 23, 'city': 'karachi'}"
      ]
     },
     "execution_count": 9,
     "metadata": {},
     "output_type": "execute_result"
    }
   ],
   "source": [
    "my_friend"
   ]
  },
  {
   "cell_type": "code",
   "execution_count": 10,
   "metadata": {},
   "outputs": [],
   "source": [
    "# Q2.Make a dictionary called cities. Use the names of three cities as keys in your dictionary. \n",
    "# Create a dictionary of information about each city and include the country that the city is in, \n",
    "# its approximate population, and one fact about that city. \n",
    "# The keys for each city’s dictionary should be something like country, population, and fact. \n",
    "# Print the name of each city and all of the information you have stored about it"
   ]
  },
  {
   "cell_type": "code",
   "execution_count": 11,
   "metadata": {},
   "outputs": [
    {
     "name": "stdout",
     "output_type": "stream",
     "text": [
      "\n",
      "Karachi is in Pakistan.\n",
      "  It has a population of about 20 million.\n",
      "  It Is The 6Th Largest City Of World\n",
      "\n",
      "New York is in Usa.\n",
      "  It has a population of about 19.49 million.\n",
      "  New York Became The 1St Capital Of Usa In 1789\n",
      "\n",
      "Toronto is in Canada.\n",
      "  It has a population of about 2.8 million.\n",
      "  York Is The Old Name Of Toronto\n"
     ]
    }
   ],
   "source": [
    "cities = {\"karachi\":{\"country\":\"pakistan\", \"population\":\"20 million\", \"fact\":\"It is the 6th largest city of world\"},\n",
    "         \"new york\":{\"country\":\"USA\", \"population\":\"19.49 million\", \"fact\":\"New York became the 1st capital of USA in 1789\"},\n",
    "          \"toronto\":{\"country\":\"canada\", \"population\":\"2.8 million\", \"fact\":\"york is the old name of toronto\"}}\n",
    "\n",
    "for city, city_info in cities.items():\n",
    "    country = city_info['country'].title()\n",
    "    population = city_info['population']\n",
    "    fact = city_info['fact'].title()\n",
    "\n",
    "    print(\"\\n\" + city.title() + \" is in \" + country + \".\")\n",
    "    print(\"  It has a population of about \" + str(population) + \".\")\n",
    "    print(\"  \" +fact)"
   ]
  },
  {
   "cell_type": "code",
   "execution_count": 12,
   "metadata": {},
   "outputs": [],
   "source": [
    "# Q3.A movie theater charges different ticket prices depending on a person’s age. \n",
    "# If a person is under the age of 3, the ticket is free; if they are between 3 and 12, the ticket is $10; \n",
    "# and if they are over age 12, the ticket is $15. \n",
    "# Write a loop in which you ask users their age, and then tell them the cost of their movie ticket."
   ]
  },
  {
   "cell_type": "code",
   "execution_count": 13,
   "metadata": {},
   "outputs": [
    {
     "name": "stdout",
     "output_type": "stream",
     "text": [
      "What's your age?\n",
      "Enter 'exit' when tasks done. 2\n",
      "  Your ticket is free!\n",
      "What's your age?\n",
      "Enter 'exit' when tasks done. 12\n",
      "  Your ticket is $10.\n",
      "What's your age?\n",
      "Enter 'exit' when tasks done. 18\n",
      "  Your ticket is $15.\n",
      "What's your age?\n",
      "Enter 'exit' when tasks done. exit\n"
     ]
    }
   ],
   "source": [
    "argument = \"What's your age?\"\n",
    "argument += \"\\nEnter 'exit' when tasks done. \"\n",
    "\n",
    "while True:\n",
    "    age = input(argument)\n",
    "    if age == 'exit':\n",
    "        break\n",
    "    age = int(age)\n",
    "\n",
    "    if age < 3:\n",
    "        print(\"  Your ticket is free!\")\n",
    "    elif age < 13:\n",
    "        print(\"  Your ticket is $10.\")\n",
    "    else:\n",
    "        print(\"  Your ticket is $15.\")"
   ]
  },
  {
   "cell_type": "code",
   "execution_count": 14,
   "metadata": {},
   "outputs": [],
   "source": [
    "# Q4.Write a function called favorite_book() that accepts one parameter, title. \n",
    "# The function should print a message, such as One of my favorite books is Alice in Wonderland. \n",
    "# Call the function, making sure to include a book title as an argument in the function call."
   ]
  },
  {
   "cell_type": "code",
   "execution_count": 15,
   "metadata": {},
   "outputs": [
    {
     "name": "stdout",
     "output_type": "stream",
     "text": [
      "TALASH is one of my favorite books.\n"
     ]
    }
   ],
   "source": [
    "def favorite_book(title):\n",
    "    print(title + \" is one of my favorite books.\")\n",
    "\n",
    "favorite_book('TALASH')"
   ]
  },
  {
   "cell_type": "code",
   "execution_count": 16,
   "metadata": {},
   "outputs": [],
   "source": [
    "# Q5.Guess the number game\n",
    "# Write a program which randomly generate a number between 1 to 30 and ask the user in input field to guess the correct number.\n",
    "# Give three chances to user guess the number and also give hint to user if hidden number is greater or smaller than the number\n",
    "# he given to input field."
   ]
  },
  {
   "cell_type": "code",
   "execution_count": 17,
   "metadata": {},
   "outputs": [
    {
     "name": "stdout",
     "output_type": "stream",
     "text": [
      "You have three attempts to guess a number between 1 and 30\n",
      "15\n",
      "Try Lower\n",
      "10\n",
      "You won!!!\n"
     ]
    }
   ],
   "source": [
    "import random\n",
    "num = random.randint(1, 30)\n",
    "\n",
    "print(\"You have three attempts to guess a number between 1 and 30\")\n",
    "while True:\n",
    "    guess = input()\n",
    "    i = int(guess)\n",
    "    if i == num:\n",
    "        print('You won!!!')\n",
    "        break\n",
    "    elif i < num:\n",
    "               print('Try Higher')\n",
    "    elif i > num:\n",
    "               print('Try Lower')  "
   ]
  }
 ],
 "metadata": {
  "kernelspec": {
   "display_name": "Python 3",
   "language": "python",
   "name": "python3"
  },
  "language_info": {
   "codemirror_mode": {
    "name": "ipython",
    "version": 3
   },
   "file_extension": ".py",
   "mimetype": "text/x-python",
   "name": "python",
   "nbconvert_exporter": "python",
   "pygments_lexer": "ipython3",
   "version": "3.7.4"
  }
 },
 "nbformat": 4,
 "nbformat_minor": 2
}
