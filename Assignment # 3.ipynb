{
 "cells": [
  {
   "cell_type": "code",
   "execution_count": 1,
   "metadata": {},
   "outputs": [],
   "source": [
    "#Q1.Make a calculator using Python with addition , subtraction , multiplication , division and power?\n",
    "\n",
    "def calculator(num1, num2, opr):\n",
    "    if opr == \"+\":\n",
    "        print(num1 + num2) #Adiition (+)\n",
    "    elif opr == \"-\":\n",
    "        print(num1 - num2) #Subtraction (-)\n",
    "    elif opr == \"*\":\n",
    "        print(num1 * num2) #Multiplication (*)\n",
    "    elif opr == \"/\":\n",
    "        print(num1 / num2) #Division (/)\n",
    "    elif opr == \"**\":\n",
    "        print(num1 ** num2) #Power (**)\n",
    "    else:\n",
    "        print('Wrong Operator')"
   ]
  },
  {
   "cell_type": "code",
   "execution_count": 2,
   "metadata": {},
   "outputs": [
    {
     "name": "stdout",
     "output_type": "stream",
     "text": [
      "59\n"
     ]
    }
   ],
   "source": [
    "calculator(55, 4, '+')"
   ]
  },
  {
   "cell_type": "code",
   "execution_count": 3,
   "metadata": {},
   "outputs": [
    {
     "name": "stdout",
     "output_type": "stream",
     "text": [
      "47\n"
     ]
    }
   ],
   "source": [
    "calculator(65, 18, '-')"
   ]
  },
  {
   "cell_type": "code",
   "execution_count": 4,
   "metadata": {},
   "outputs": [
    {
     "name": "stdout",
     "output_type": "stream",
     "text": [
      "90\n"
     ]
    }
   ],
   "source": [
    "calculator(10, 9, '*')"
   ]
  },
  {
   "cell_type": "code",
   "execution_count": 5,
   "metadata": {},
   "outputs": [
    {
     "name": "stdout",
     "output_type": "stream",
     "text": [
      "18.0\n"
     ]
    }
   ],
   "source": [
    "calculator(90, 5, '/')"
   ]
  },
  {
   "cell_type": "code",
   "execution_count": 6,
   "metadata": {},
   "outputs": [
    {
     "name": "stdout",
     "output_type": "stream",
     "text": [
      "125\n"
     ]
    }
   ],
   "source": [
    "calculator(5, 3, '**')"
   ]
  },
  {
   "cell_type": "code",
   "execution_count": 7,
   "metadata": {},
   "outputs": [
    {
     "name": "stdout",
     "output_type": "stream",
     "text": [
      "numeric value exist\n"
     ]
    }
   ],
   "source": [
    "#Q2.Write a program to check if there is any numeric value in list using for loop?\n",
    "\n",
    "list = [\"a\", \"s\", \"d\", \"f\", 5, 88, 55, 14]\n",
    "for i in list: \n",
    "    if(i == 88) : # in place of 88, any other numeric value can also be checked\n",
    "        print (\"numeric value exist\") "
   ]
  },
  {
   "cell_type": "code",
   "execution_count": 8,
   "metadata": {},
   "outputs": [
    {
     "name": "stdout",
     "output_type": "stream",
     "text": [
      "{'d1': 50, 'd2': 100}\n",
      "{'d1': 50, 'd2': 100, 'd3': 150}\n"
     ]
    }
   ],
   "source": [
    "#Q3.Write a Python script to add a key to a dictionary?\n",
    "\n",
    "dict = {\"d1\":50, \"d2\":100}\n",
    "print(dict)\n",
    "\n",
    "dict.update({\"d3\":150})\n",
    "print(dict)"
   ]
  },
  {
   "cell_type": "code",
   "execution_count": 9,
   "metadata": {},
   "outputs": [
    {
     "name": "stdout",
     "output_type": "stream",
     "text": [
      "500\n"
     ]
    }
   ],
   "source": [
    "#Q4.Write a Python program to sum all the numeric items in a dictionary?\n",
    "\n",
    "dict2 = {\"d1\":50, \"d2\":100, \"d3\":150, \"d4\":200}\n",
    "print(sum(dict2.values()))"
   ]
  },
  {
   "cell_type": "code",
   "execution_count": 10,
   "metadata": {},
   "outputs": [
    {
     "name": "stdout",
     "output_type": "stream",
     "text": [
      "22\n",
      "44\n",
      "99\n"
     ]
    }
   ],
   "source": [
    "#Q5.Write a program to identify duplicate values from list? \n",
    "\n",
    "my_list = [22, 44, 66, 88, 99, 22, 77, 44, 99]\n",
    "my_list.sort()\n",
    "for i in range (len (my_list) -1):\n",
    "     if my_list[i] == my_list[i+1]:\n",
    "         print(my_list[i])"
   ]
  },
  {
   "cell_type": "code",
   "execution_count": 11,
   "metadata": {},
   "outputs": [
    {
     "name": "stdout",
     "output_type": "stream",
     "text": [
      "Key is exist in the dictionary\n"
     ]
    }
   ],
   "source": [
    "#Q6.Write a Python script to check if a given key already exists in a dictionary?\n",
    "\n",
    "d = {1: 55, 2: 66, 3: 77, 4: 88, 5: 99, 6: 110}\n",
    "def is_key_exist(z):\n",
    "    if z in d:\n",
    "      print('Key is exist in the dictionary')\n",
    "    else:\n",
    "      print('Key is not found in the dictionary')\n",
    "is_key_exist(2) # Here 2 is key, we can check any of the key"
   ]
  }
 ],
 "metadata": {
  "kernelspec": {
   "display_name": "Python 3",
   "language": "python",
   "name": "python3"
  },
  "language_info": {
   "codemirror_mode": {
    "name": "ipython",
    "version": 3
   },
   "file_extension": ".py",
   "mimetype": "text/x-python",
   "name": "python",
   "nbconvert_exporter": "python",
   "pygments_lexer": "ipython3",
   "version": "3.7.4"
  }
 },
 "nbformat": 4,
 "nbformat_minor": 2
}
