{
 "cells": [
  {
   "cell_type": "code",
   "execution_count": 1,
   "metadata": {},
   "outputs": [
    {
     "name": "stdout",
     "output_type": "stream",
     "text": [
      "Enter marks in English: 79\n",
      "Enter marks in Urdu: 72\n",
      "Enter marks in Math: 61\n",
      "Enter marks in physics: 87\n",
      "Enter marks in biology: 83\n",
      "Grade A\n"
     ]
    }
   ],
   "source": [
    "# Q1.Write a program which takes 5 inputs from user for different subject’s\n",
    "# marks, total it and generate mark sheet using grades?\n",
    "\n",
    "sub1 = int(input(\"Enter marks in English: \"))\n",
    "sub2 = int(input(\"Enter marks in Urdu: \"))\n",
    "sub3 = int(input(\"Enter marks in Math: \"))\n",
    "sub4 = int(input(\"Enter marks in physics: \"))\n",
    "sub5 = int(input(\"Enter marks in biology: \"))\n",
    "\n",
    "avg=(sub1+sub2+sub3+sub4+sub4)/5\n",
    "if avg >= 80 and avg <= 100:\n",
    "    print(\"Grade: A+\")\n",
    "elif avg >= 70 and avg <= 80:\n",
    "    print(\"Grade A\")\n",
    "elif avg >= 60 and avg <= 70:\n",
    "    print(\"Grade B\")\n",
    "elif avg >= 50 and avg <= 60:\n",
    "    print(\"Grade C\")\n",
    "elif avg >= 40 and avg <= 50:\n",
    "    print(\"Grade D\")\n",
    "else:\n",
    "    print(\"you are fail\")"
   ]
  },
  {
   "cell_type": "code",
   "execution_count": 2,
   "metadata": {},
   "outputs": [
    {
     "name": "stdout",
     "output_type": "stream",
     "text": [
      "Enter your number: 53\n",
      "Odd Number\n"
     ]
    }
   ],
   "source": [
    "# Q2.Write a program which take input from user and identify that the given number is even or odd?\n",
    "\n",
    "x = int(input('Enter your number: '))\n",
    "if x % 2 == 0:\n",
    "    print('Even Number')\n",
    "else:\n",
    "    print('Odd Number')"
   ]
  },
  {
   "cell_type": "code",
   "execution_count": 3,
   "metadata": {},
   "outputs": [
    {
     "name": "stdout",
     "output_type": "stream",
     "text": [
      "5\n"
     ]
    }
   ],
   "source": [
    "# Q3.Write a program which print the length of the list?\n",
    "\n",
    "b = [\"a\", \"b\", \"c\", \"d\", \"e\"]\n",
    "print(len(b))"
   ]
  },
  {
   "cell_type": "code",
   "execution_count": 4,
   "metadata": {},
   "outputs": [
    {
     "name": "stdout",
     "output_type": "stream",
     "text": [
      "How many numbers: 5\n",
      "Enter number 11\n",
      "Enter number 22\n",
      "Enter number 33\n",
      "Enter number 44\n",
      "Enter number 55\n",
      "Sum of elements in given list is : 165\n"
     ]
    }
   ],
   "source": [
    "# Q4.Write a Python program to sum all the numeric items in a list?\n",
    "\n",
    "List = []\n",
    "num = int(input('How many numbers: '))\n",
    "for n in range(num):\n",
    "    numbers = int(input('Enter number '))\n",
    "    List.append(numbers)\n",
    "print(\"Sum of elements in given list is :\", sum(List))"
   ]
  },
  {
   "cell_type": "code",
   "execution_count": 5,
   "metadata": {},
   "outputs": [
    {
     "name": "stdout",
     "output_type": "stream",
     "text": [
      "largest number from a numeric list : 70\n"
     ]
    }
   ],
   "source": [
    "# Q5.Write a Python program to get the largest number from a numeric list?\n",
    "\n",
    "list = [10, 20, 30, 40, 50, 70]\n",
    "print(\"largest number from a numeric list :\", max(list))"
   ]
  },
  {
   "cell_type": "code",
   "execution_count": 6,
   "metadata": {},
   "outputs": [
    {
     "name": "stdout",
     "output_type": "stream",
     "text": [
      "[1]\n",
      "[1, 1]\n",
      "[1, 1, 2]\n",
      "[1, 1, 2, 3]\n"
     ]
    }
   ],
   "source": [
    "'''Q6.Take a list, say for example this one:\n",
    "a = [1, 1, 2, 3, 5, 8, 13, 21, 34, 55, 89]\n",
    "and write a program that prints out all the elements of the list that are\n",
    "less than 5'''\n",
    "\n",
    "a = [1, 1, 2, 3, 5, 8, 13, 21, 34, 55, 89]\n",
    "\n",
    "new_list = []\n",
    "\n",
    "for item in a:\n",
    "    if item < 5:\n",
    "        new_list.append(item)\n",
    "        print(new_list)"
   ]
  }
 ],
 "metadata": {
  "kernelspec": {
   "display_name": "Python 3",
   "language": "python",
   "name": "python3"
  },
  "language_info": {
   "codemirror_mode": {
    "name": "ipython",
    "version": 3
   },
   "file_extension": ".py",
   "mimetype": "text/x-python",
   "name": "python",
   "nbconvert_exporter": "python",
   "pygments_lexer": "ipython3",
   "version": "3.7.4"
  }
 },
 "nbformat": 4,
 "nbformat_minor": 2
}
