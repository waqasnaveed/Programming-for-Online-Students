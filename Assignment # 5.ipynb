{
 "cells": [
  {
   "cell_type": "code",
   "execution_count": 1,
   "metadata": {},
   "outputs": [],
   "source": [
    "# Question:1\n",
    "# Write a Python function to calculate the factorial of a number (a non-negative integer). \n",
    "# The function accepts the number as an argument."
   ]
  },
  {
   "cell_type": "code",
   "execution_count": 2,
   "metadata": {},
   "outputs": [
    {
     "name": "stdout",
     "output_type": "stream",
     "text": [
      "Input a number to compute the factiorial : 5\n",
      "120\n"
     ]
    }
   ],
   "source": [
    "def factorial(n):\n",
    "    if n == 0:\n",
    "        return 1\n",
    "    else:\n",
    "        return n * factorial(n-1)\n",
    "n=int(input(\"Input a number to compute the factiorial : \"))\n",
    "print(factorial(n))"
   ]
  },
  {
   "cell_type": "code",
   "execution_count": 3,
   "metadata": {},
   "outputs": [],
   "source": [
    "# Question:2\n",
    "# Write a Python function that accepts a string and calculate the number of upper\n",
    "# case letters and lower case letters."
   ]
  },
  {
   "cell_type": "code",
   "execution_count": 4,
   "metadata": {},
   "outputs": [
    {
     "name": "stdout",
     "output_type": "stream",
     "text": [
      "Original String :  Democracy is How You Perform After Being Elected\n",
      "No. of Upper case characters :  7\n",
      "No. of Lower case Characters :  34\n"
     ]
    }
   ],
   "source": [
    "def string_test(s):\n",
    "    d={\"UPPER_CASE\":0, \"LOWER_CASE\":0}\n",
    "    for c in s:\n",
    "        if c.isupper():\n",
    "           d[\"UPPER_CASE\"]+=1\n",
    "        elif c.islower():\n",
    "           d[\"LOWER_CASE\"]+=1\n",
    "        else:\n",
    "           pass\n",
    "    print (\"Original String : \", s)\n",
    "    print (\"No. of Upper case characters : \", d[\"UPPER_CASE\"])\n",
    "    print (\"No. of Lower case Characters : \", d[\"LOWER_CASE\"])\n",
    "\n",
    "string_test('Democracy is How You Perform After Being Elected')"
   ]
  },
  {
   "cell_type": "code",
   "execution_count": 5,
   "metadata": {},
   "outputs": [],
   "source": [
    "# Question:3\n",
    "# Write a Python function to print the even numbers from a given list."
   ]
  },
  {
   "cell_type": "code",
   "execution_count": 6,
   "metadata": {},
   "outputs": [
    {
     "name": "stdout",
     "output_type": "stream",
     "text": [
      "20 4 88 10 12 "
     ]
    }
   ],
   "source": [
    "# list of numbers \n",
    "list = [20, 23, 4, 45, 88, 13, 87, 10, 12] \n",
    "  \n",
    "for num in list:  \n",
    "    if num % 2 == 0: \n",
    "       print(num, end = \" \") "
   ]
  },
  {
   "cell_type": "code",
   "execution_count": 7,
   "metadata": {},
   "outputs": [],
   "source": [
    "# Question:5\n",
    "# Write a Python function that takes a number as a parameter and check the number is prime or not."
   ]
  },
  {
   "cell_type": "code",
   "execution_count": 8,
   "metadata": {},
   "outputs": [
    {
     "name": "stdout",
     "output_type": "stream",
     "text": [
      "True\n"
     ]
    }
   ],
   "source": [
    "def test_prime(n):\n",
    "    if (n==1):\n",
    "        return False\n",
    "    elif (n==2):\n",
    "        return True;\n",
    "    else:\n",
    "        for x in range(2,n):\n",
    "            if(n % x==0):\n",
    "                return False\n",
    "        return True             \n",
    "print(test_prime(7))"
   ]
  },
  {
   "cell_type": "code",
   "execution_count": 9,
   "metadata": {},
   "outputs": [],
   "source": [
    "# Question:6\n",
    "# Suppose a customer is shopping in a market and you need to print all the items which user bought from market.\n",
    "# Write a function which accepts the multiple arguments of user shopping list and\n",
    "# print all the items which user bought from market."
   ]
  },
  {
   "cell_type": "code",
   "execution_count": 10,
   "metadata": {},
   "outputs": [
    {
     "name": "stdout",
     "output_type": "stream",
     "text": [
      "Enter an option: 1\n",
      "Enter an item: apples\n",
      "Enter the quantity: 12\n",
      "\n",
      "\n",
      "Enter an option: 3\n",
      "pants : 5\n",
      "socks : 5\n",
      "jeans : 2\n",
      "shoes : 1\n",
      "apples : 12\n",
      "\n",
      "\n",
      "Enter an option: 0\n",
      "shopping_list program closed\n"
     ]
    }
   ],
   "source": [
    "shopping_list = {\"pants\":5, \"socks\":5, \"jeans\":2, \"shoes\":1}\n",
    "\n",
    "#shopping_list options\n",
    "# 1: Add item\n",
    "# 2: Remove item\n",
    "# 3: View updated list\n",
    "# 0: Exit \n",
    "\n",
    "option=int(input(\"Enter an option: \"))\n",
    "while option !=0:\n",
    "    if option == 1:\n",
    "        item = input(\"Enter an item: \")\n",
    "        qnty = int(input(\"Enter the quantity: \"))\n",
    "        shopping_list[item]= qnty\n",
    "    elif option == 2:\n",
    "        item = input(\"Enter an item: \")\n",
    "        del(shopping_list[item])\n",
    "    elif option == 3:\n",
    "        for item in shopping_list:\n",
    "            print(item,\":\",shopping_list[item])\n",
    "    elif option !=0:\n",
    "        print(\"You did't enter a valid number.\")\n",
    "    option= int(input(\"\\n\\nEnter an option: \"))\n",
    "else:\n",
    "    print(\"shopping_list program closed\")"
   ]
  }
 ],
 "metadata": {
  "kernelspec": {
   "display_name": "Python 3",
   "language": "python",
   "name": "python3"
  },
  "language_info": {
   "codemirror_mode": {
    "name": "ipython",
    "version": 3
   },
   "file_extension": ".py",
   "mimetype": "text/x-python",
   "name": "python",
   "nbconvert_exporter": "python",
   "pygments_lexer": "ipython3",
   "version": "3.7.4"
  }
 },
 "nbformat": 4,
 "nbformat_minor": 2
}
